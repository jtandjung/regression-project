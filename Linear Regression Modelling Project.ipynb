{
 "cells": [
  {
   "cell_type": "markdown",
   "id": "ab65c870",
   "metadata": {},
   "source": [
    "## Linear Regression Modelling Project\n",
    "\n",
    "This project was inspired by a Udemy online course on regression and forecasting techniques in data science.\n",
    "\n",
    "We have a cleaned dataset of rent prices in San Francisco provided by Udemy and the goal is to build a linear regression model that can accurately predict the rent price of an apartment based on the given variables.\n",
    "\n",
    "A reasonable goal, as set by Udemy, is to get the MAE of the final model to around 500 dollars."
   ]
  },
  {
   "cell_type": "code",
   "execution_count": 1,
   "id": "7cb398c6",
   "metadata": {},
   "outputs": [
    {
     "name": "stderr",
     "output_type": "stream",
     "text": [
      "C:\\Users\\justi\\anaconda3\\lib\\site-packages\\pandas\\core\\computation\\expressions.py:21: UserWarning: Pandas requires version '2.8.4' or newer of 'numexpr' (version '2.8.1' currently installed).\n",
      "  from pandas.core.computation.check import NUMEXPR_INSTALLED\n",
      "C:\\Users\\justi\\anaconda3\\lib\\site-packages\\pandas\\core\\arrays\\masked.py:61: UserWarning: Pandas requires version '1.3.6' or newer of 'bottleneck' (version '1.3.4' currently installed).\n",
      "  from pandas.core import (\n"
     ]
    },
    {
     "data": {
      "text/html": [
       "<div>\n",
       "<style scoped>\n",
       "    .dataframe tbody tr th:only-of-type {\n",
       "        vertical-align: middle;\n",
       "    }\n",
       "\n",
       "    .dataframe tbody tr th {\n",
       "        vertical-align: top;\n",
       "    }\n",
       "\n",
       "    .dataframe thead th {\n",
       "        text-align: right;\n",
       "    }\n",
       "</style>\n",
       "<table border=\"1\" class=\"dataframe\">\n",
       "  <thead>\n",
       "    <tr style=\"text-align: right;\">\n",
       "      <th></th>\n",
       "      <th>price</th>\n",
       "      <th>sqft</th>\n",
       "      <th>beds</th>\n",
       "      <th>bath</th>\n",
       "      <th>laundry</th>\n",
       "      <th>pets</th>\n",
       "      <th>housing_type</th>\n",
       "      <th>parking</th>\n",
       "      <th>hood_district</th>\n",
       "    </tr>\n",
       "  </thead>\n",
       "  <tbody>\n",
       "    <tr>\n",
       "      <th>0</th>\n",
       "      <td>6800</td>\n",
       "      <td>1600.0</td>\n",
       "      <td>2.0</td>\n",
       "      <td>2.0</td>\n",
       "      <td>(a) in-unit</td>\n",
       "      <td>(d) no pets</td>\n",
       "      <td>(c) multi</td>\n",
       "      <td>(b) protected</td>\n",
       "      <td>7.0</td>\n",
       "    </tr>\n",
       "    <tr>\n",
       "      <th>1</th>\n",
       "      <td>3500</td>\n",
       "      <td>550.0</td>\n",
       "      <td>1.0</td>\n",
       "      <td>1.0</td>\n",
       "      <td>(a) in-unit</td>\n",
       "      <td>(a) both</td>\n",
       "      <td>(c) multi</td>\n",
       "      <td>(b) protected</td>\n",
       "      <td>7.0</td>\n",
       "    </tr>\n",
       "    <tr>\n",
       "      <th>2</th>\n",
       "      <td>5100</td>\n",
       "      <td>1300.0</td>\n",
       "      <td>2.0</td>\n",
       "      <td>1.0</td>\n",
       "      <td>(a) in-unit</td>\n",
       "      <td>(a) both</td>\n",
       "      <td>(c) multi</td>\n",
       "      <td>(d) no parking</td>\n",
       "      <td>7.0</td>\n",
       "    </tr>\n",
       "    <tr>\n",
       "      <th>3</th>\n",
       "      <td>9000</td>\n",
       "      <td>3500.0</td>\n",
       "      <td>3.0</td>\n",
       "      <td>2.5</td>\n",
       "      <td>(a) in-unit</td>\n",
       "      <td>(d) no pets</td>\n",
       "      <td>(c) multi</td>\n",
       "      <td>(b) protected</td>\n",
       "      <td>7.0</td>\n",
       "    </tr>\n",
       "    <tr>\n",
       "      <th>4</th>\n",
       "      <td>3100</td>\n",
       "      <td>561.0</td>\n",
       "      <td>1.0</td>\n",
       "      <td>1.0</td>\n",
       "      <td>(c) no laundry</td>\n",
       "      <td>(a) both</td>\n",
       "      <td>(c) multi</td>\n",
       "      <td>(d) no parking</td>\n",
       "      <td>7.0</td>\n",
       "    </tr>\n",
       "    <tr>\n",
       "      <th>5</th>\n",
       "      <td>3800</td>\n",
       "      <td>800.0</td>\n",
       "      <td>2.0</td>\n",
       "      <td>1.0</td>\n",
       "      <td>(b) on-site</td>\n",
       "      <td>(c) cats</td>\n",
       "      <td>(c) multi</td>\n",
       "      <td>(b) protected</td>\n",
       "      <td>9.0</td>\n",
       "    </tr>\n",
       "    <tr>\n",
       "      <th>6</th>\n",
       "      <td>3100</td>\n",
       "      <td>750.0</td>\n",
       "      <td>1.0</td>\n",
       "      <td>1.0</td>\n",
       "      <td>(a) in-unit</td>\n",
       "      <td>(d) no pets</td>\n",
       "      <td>(c) multi</td>\n",
       "      <td>(b) protected</td>\n",
       "      <td>8.0</td>\n",
       "    </tr>\n",
       "    <tr>\n",
       "      <th>7</th>\n",
       "      <td>3000</td>\n",
       "      <td>650.0</td>\n",
       "      <td>1.0</td>\n",
       "      <td>1.0</td>\n",
       "      <td>(b) on-site</td>\n",
       "      <td>(a) both</td>\n",
       "      <td>(c) multi</td>\n",
       "      <td>(d) no parking</td>\n",
       "      <td>7.0</td>\n",
       "    </tr>\n",
       "    <tr>\n",
       "      <th>8</th>\n",
       "      <td>3000</td>\n",
       "      <td>650.0</td>\n",
       "      <td>1.0</td>\n",
       "      <td>1.0</td>\n",
       "      <td>(b) on-site</td>\n",
       "      <td>(a) both</td>\n",
       "      <td>(c) multi</td>\n",
       "      <td>(b) protected</td>\n",
       "      <td>7.0</td>\n",
       "    </tr>\n",
       "    <tr>\n",
       "      <th>9</th>\n",
       "      <td>3200</td>\n",
       "      <td>650.0</td>\n",
       "      <td>1.0</td>\n",
       "      <td>1.0</td>\n",
       "      <td>(a) in-unit</td>\n",
       "      <td>(c) cats</td>\n",
       "      <td>(c) multi</td>\n",
       "      <td>(b) protected</td>\n",
       "      <td>9.0</td>\n",
       "    </tr>\n",
       "  </tbody>\n",
       "</table>\n",
       "</div>"
      ],
      "text/plain": [
       "   price    sqft  beds  bath         laundry         pets housing_type  \\\n",
       "0   6800  1600.0   2.0   2.0     (a) in-unit  (d) no pets    (c) multi   \n",
       "1   3500   550.0   1.0   1.0     (a) in-unit     (a) both    (c) multi   \n",
       "2   5100  1300.0   2.0   1.0     (a) in-unit     (a) both    (c) multi   \n",
       "3   9000  3500.0   3.0   2.5     (a) in-unit  (d) no pets    (c) multi   \n",
       "4   3100   561.0   1.0   1.0  (c) no laundry     (a) both    (c) multi   \n",
       "5   3800   800.0   2.0   1.0     (b) on-site     (c) cats    (c) multi   \n",
       "6   3100   750.0   1.0   1.0     (a) in-unit  (d) no pets    (c) multi   \n",
       "7   3000   650.0   1.0   1.0     (b) on-site     (a) both    (c) multi   \n",
       "8   3000   650.0   1.0   1.0     (b) on-site     (a) both    (c) multi   \n",
       "9   3200   650.0   1.0   1.0     (a) in-unit     (c) cats    (c) multi   \n",
       "\n",
       "          parking  hood_district  \n",
       "0   (b) protected            7.0  \n",
       "1   (b) protected            7.0  \n",
       "2  (d) no parking            7.0  \n",
       "3   (b) protected            7.0  \n",
       "4  (d) no parking            7.0  \n",
       "5   (b) protected            9.0  \n",
       "6   (b) protected            8.0  \n",
       "7  (d) no parking            7.0  \n",
       "8   (b) protected            7.0  \n",
       "9   (b) protected            9.0  "
      ]
     },
     "execution_count": 1,
     "metadata": {},
     "output_type": "execute_result"
    }
   ],
   "source": [
    "import pandas as pd\n",
    "import numpy as np\n",
    "import matplotlib.pyplot as plt\n",
    "import seaborn as sns\n",
    "\n",
    "import statsmodels.api as sm\n",
    "from sklearn.model_selection import KFold\n",
    "from sklearn.metrics import r2_score as r2, mean_absolute_error as mae\n",
    "\n",
    "rentals_df = pd.read_csv(\"../Data/sf_clean.csv\") \n",
    "rentals_df.head(10)"
   ]
  },
  {
   "cell_type": "markdown",
   "id": "71dcbc2d",
   "metadata": {},
   "source": [
    "### Data Dictionary\n",
    "\n",
    "1. Price: The price of the rental and our target variable\n",
    "2. sqft: The area in square feet of the rental\n",
    "3. beds: The number of bedrooms in the rental\n",
    "4. bath: The number of bathrooms in the rental\n",
    "5. laundry: Does the rental have a laundry machine inside the house, a shared laundry machine, or no laundry on site?\n",
    "6. pets: Does the rental allow pets? Cats only, dogs only or both cats and dogs?\n",
    "7. Housing type: Is the rental in a multi-unit building, a building with two units, or a stand alone house? \n",
    "8. Parking: Does the apartment off a parking space? No, protected in a garage, off-street in a parking lot, or valet service?\n",
    "9. Hood district: Which part of San Francisco is the apartment located?\n",
    "\n",
    "![image info](SFAR_map.png)"
   ]
  },
  {
   "cell_type": "markdown",
   "id": "f9c7b82d",
   "metadata": {},
   "source": [
    "## EDA\n"
   ]
  },
  {
   "cell_type": "code",
   "execution_count": 2,
   "id": "0498eeef",
   "metadata": {},
   "outputs": [
    {
     "name": "stdout",
     "output_type": "stream",
     "text": [
      "<class 'pandas.core.frame.DataFrame'>\n",
      "RangeIndex: 989 entries, 0 to 988\n",
      "Data columns (total 9 columns):\n",
      " #   Column         Non-Null Count  Dtype  \n",
      "---  ------         --------------  -----  \n",
      " 0   price          989 non-null    int64  \n",
      " 1   sqft           989 non-null    float64\n",
      " 2   beds           989 non-null    float64\n",
      " 3   bath           989 non-null    float64\n",
      " 4   laundry        989 non-null    object \n",
      " 5   pets           989 non-null    object \n",
      " 6   housing_type   989 non-null    object \n",
      " 7   parking        989 non-null    object \n",
      " 8   hood_district  989 non-null    float64\n",
      "dtypes: float64(4), int64(1), object(4)\n",
      "memory usage: 69.7+ KB\n"
     ]
    }
   ],
   "source": [
    "rentals_df.info()"
   ]
  },
  {
   "cell_type": "code",
   "execution_count": 3,
   "id": "ddfc2148",
   "metadata": {},
   "outputs": [
    {
     "data": {
      "text/html": [
       "<div>\n",
       "<style scoped>\n",
       "    .dataframe tbody tr th:only-of-type {\n",
       "        vertical-align: middle;\n",
       "    }\n",
       "\n",
       "    .dataframe tbody tr th {\n",
       "        vertical-align: top;\n",
       "    }\n",
       "\n",
       "    .dataframe thead th {\n",
       "        text-align: right;\n",
       "    }\n",
       "</style>\n",
       "<table border=\"1\" class=\"dataframe\">\n",
       "  <thead>\n",
       "    <tr style=\"text-align: right;\">\n",
       "      <th></th>\n",
       "      <th>price</th>\n",
       "      <th>sqft</th>\n",
       "      <th>beds</th>\n",
       "      <th>bath</th>\n",
       "      <th>hood_district</th>\n",
       "    </tr>\n",
       "  </thead>\n",
       "  <tbody>\n",
       "    <tr>\n",
       "      <th>count</th>\n",
       "      <td>989.000000</td>\n",
       "      <td>989.000000</td>\n",
       "      <td>989.000000</td>\n",
       "      <td>989.000000</td>\n",
       "      <td>989.000000</td>\n",
       "    </tr>\n",
       "    <tr>\n",
       "      <th>mean</th>\n",
       "      <td>3595.035389</td>\n",
       "      <td>976.765420</td>\n",
       "      <td>1.679474</td>\n",
       "      <td>1.390293</td>\n",
       "      <td>7.052578</td>\n",
       "    </tr>\n",
       "    <tr>\n",
       "      <th>std</th>\n",
       "      <td>1546.222670</td>\n",
       "      <td>474.629798</td>\n",
       "      <td>1.076710</td>\n",
       "      <td>0.562714</td>\n",
       "      <td>2.404716</td>\n",
       "    </tr>\n",
       "    <tr>\n",
       "      <th>min</th>\n",
       "      <td>750.000000</td>\n",
       "      <td>150.000000</td>\n",
       "      <td>0.000000</td>\n",
       "      <td>1.000000</td>\n",
       "      <td>1.000000</td>\n",
       "    </tr>\n",
       "    <tr>\n",
       "      <th>25%</th>\n",
       "      <td>2650.000000</td>\n",
       "      <td>650.000000</td>\n",
       "      <td>1.000000</td>\n",
       "      <td>1.000000</td>\n",
       "      <td>6.000000</td>\n",
       "    </tr>\n",
       "    <tr>\n",
       "      <th>50%</th>\n",
       "      <td>3300.000000</td>\n",
       "      <td>900.000000</td>\n",
       "      <td>2.000000</td>\n",
       "      <td>1.000000</td>\n",
       "      <td>8.000000</td>\n",
       "    </tr>\n",
       "    <tr>\n",
       "      <th>75%</th>\n",
       "      <td>4242.000000</td>\n",
       "      <td>1200.000000</td>\n",
       "      <td>2.000000</td>\n",
       "      <td>2.000000</td>\n",
       "      <td>9.000000</td>\n",
       "    </tr>\n",
       "    <tr>\n",
       "      <th>max</th>\n",
       "      <td>19000.000000</td>\n",
       "      <td>3500.000000</td>\n",
       "      <td>6.000000</td>\n",
       "      <td>4.000000</td>\n",
       "      <td>10.000000</td>\n",
       "    </tr>\n",
       "  </tbody>\n",
       "</table>\n",
       "</div>"
      ],
      "text/plain": [
       "              price         sqft        beds        bath  hood_district\n",
       "count    989.000000   989.000000  989.000000  989.000000     989.000000\n",
       "mean    3595.035389   976.765420    1.679474    1.390293       7.052578\n",
       "std     1546.222670   474.629798    1.076710    0.562714       2.404716\n",
       "min      750.000000   150.000000    0.000000    1.000000       1.000000\n",
       "25%     2650.000000   650.000000    1.000000    1.000000       6.000000\n",
       "50%     3300.000000   900.000000    2.000000    1.000000       8.000000\n",
       "75%     4242.000000  1200.000000    2.000000    2.000000       9.000000\n",
       "max    19000.000000  3500.000000    6.000000    4.000000      10.000000"
      ]
     },
     "execution_count": 3,
     "metadata": {},
     "output_type": "execute_result"
    }
   ],
   "source": [
    "rentals_df.describe()"
   ]
  },
  {
   "cell_type": "code",
   "execution_count": 4,
   "id": "590cd22f",
   "metadata": {},
   "outputs": [
    {
     "data": {
      "text/html": [
       "<div>\n",
       "<style scoped>\n",
       "    .dataframe tbody tr th:only-of-type {\n",
       "        vertical-align: middle;\n",
       "    }\n",
       "\n",
       "    .dataframe tbody tr th {\n",
       "        vertical-align: top;\n",
       "    }\n",
       "\n",
       "    .dataframe thead th {\n",
       "        text-align: right;\n",
       "    }\n",
       "</style>\n",
       "<table border=\"1\" class=\"dataframe\">\n",
       "  <thead>\n",
       "    <tr style=\"text-align: right;\">\n",
       "      <th></th>\n",
       "      <th>price</th>\n",
       "      <th>sqft</th>\n",
       "      <th>beds</th>\n",
       "      <th>bath</th>\n",
       "      <th>hood_district</th>\n",
       "    </tr>\n",
       "  </thead>\n",
       "  <tbody>\n",
       "    <tr>\n",
       "      <th>price</th>\n",
       "      <td>1.000000</td>\n",
       "      <td>0.835834</td>\n",
       "      <td>0.673328</td>\n",
       "      <td>0.691190</td>\n",
       "      <td>0.013010</td>\n",
       "    </tr>\n",
       "    <tr>\n",
       "      <th>sqft</th>\n",
       "      <td>0.835834</td>\n",
       "      <td>1.000000</td>\n",
       "      <td>0.765070</td>\n",
       "      <td>0.720929</td>\n",
       "      <td>-0.038425</td>\n",
       "    </tr>\n",
       "    <tr>\n",
       "      <th>beds</th>\n",
       "      <td>0.673328</td>\n",
       "      <td>0.765070</td>\n",
       "      <td>1.000000</td>\n",
       "      <td>0.629331</td>\n",
       "      <td>-0.109195</td>\n",
       "    </tr>\n",
       "    <tr>\n",
       "      <th>bath</th>\n",
       "      <td>0.691190</td>\n",
       "      <td>0.720929</td>\n",
       "      <td>0.629331</td>\n",
       "      <td>1.000000</td>\n",
       "      <td>0.022967</td>\n",
       "    </tr>\n",
       "    <tr>\n",
       "      <th>hood_district</th>\n",
       "      <td>0.013010</td>\n",
       "      <td>-0.038425</td>\n",
       "      <td>-0.109195</td>\n",
       "      <td>0.022967</td>\n",
       "      <td>1.000000</td>\n",
       "    </tr>\n",
       "  </tbody>\n",
       "</table>\n",
       "</div>"
      ],
      "text/plain": [
       "                  price      sqft      beds      bath  hood_district\n",
       "price          1.000000  0.835834  0.673328  0.691190       0.013010\n",
       "sqft           0.835834  1.000000  0.765070  0.720929      -0.038425\n",
       "beds           0.673328  0.765070  1.000000  0.629331      -0.109195\n",
       "bath           0.691190  0.720929  0.629331  1.000000       0.022967\n",
       "hood_district  0.013010 -0.038425 -0.109195  0.022967       1.000000"
      ]
     },
     "execution_count": 4,
     "metadata": {},
     "output_type": "execute_result"
    }
   ],
   "source": [
    "rentals_df.corr(numeric_only=True)"
   ]
  },
  {
   "cell_type": "markdown",
   "id": "dcbea0cd",
   "metadata": {},
   "source": [
    "Initial correlation exploration shows fair correlation of price with sqft, beds, bath."
   ]
  },
  {
   "cell_type": "code",
   "execution_count": 5,
   "id": "31739836",
   "metadata": {},
   "outputs": [
    {
     "data": {
      "text/plain": [
       "<AxesSubplot:xlabel='price', ylabel='Count'>"
      ]
     },
     "execution_count": 5,
     "metadata": {},
     "output_type": "execute_result"
    },
    {
     "data": {
      "image/png": "[encoded data removed]",
      "text/plain": [
       "<Figure size 432x288 with 1 Axes>"
      ]
     },
     "metadata": {
      "needs_background": "light"
     },
     "output_type": "display_data"
    }
   ],
   "source": [
    "sns.histplot(rentals_df['price'])"
   ]
  },
  {
   "cell_type": "code",
   "execution_count": 6,
   "id": "bdabab26",
   "metadata": {},
   "outputs": [
    {
     "data": {
      "text/plain": [
       "<AxesSubplot:xlabel='price', ylabel='Count'>"
      ]
     },
     "execution_count": 6,
     "metadata": {},
     "output_type": "execute_result"
    },
    {
     "data": {
      "image/png": "[encoded data removed]",
      "text/plain": [
       "<Figure size 432x288 with 1 Axes>"
      ]
     },
     "metadata": {
      "needs_background": "light"
     },
     "output_type": "display_data"
    }
   ],
   "source": [
    "from scipy import stats\n",
    "\n",
    "boxcox, calc_lambda = stats.boxcox(rentals_df['price'])\n",
    "sns.histplot(np.log(rentals_df['price']))"
   ]
  },
  {
   "cell_type": "code",
   "execution_count": 7,
   "id": "8c8818e1",
   "metadata": {},
   "outputs": [
    {
     "data": {
      "text/plain": [
       "<AxesSubplot:ylabel='Count'>"
      ]
     },
     "execution_count": 7,
     "metadata": {},
     "output_type": "execute_result"
    },
    {
     "data": {
      "image/png": "[encoded data removed]",
      "text/plain": [
       "<Figure size 432x288 with 1 Axes>"
      ]
     },
     "metadata": {
      "needs_background": "light"
     },
     "output_type": "display_data"
    }
   ],
   "source": [
    "sns.histplot(boxcox)"
   ]
  },
  {
   "cell_type": "code",
   "execution_count": 8,
   "id": "68aac962",
   "metadata": {},
   "outputs": [
    {
     "data": {
      "text/plain": [
       "<seaborn.axisgrid.PairGrid at 0x1ac99e4b730>"
      ]
     },
     "execution_count": 8,
     "metadata": {},
     "output_type": "execute_result"
    },
    {
     "data": {
      "image/png": "[encoded data removed]",
      "text/plain": [
       "<Figure size 900x900 with 20 Axes>"
      ]
     },
     "metadata": {
      "needs_background": "light"
     },
     "output_type": "display_data"
    }
   ],
   "source": [
    "sns.pairplot(rentals_df, corner=True)"
   ]
  },
  {
   "cell_type": "code",
   "execution_count": 9,
   "id": "565a2720",
   "metadata": {},
   "outputs": [
    {
     "name": "stdout",
     "output_type": "stream",
     "text": [
      "Column: laundry\n",
      "(a) in-unit       488\n",
      "(b) on-site       370\n",
      "(c) no laundry    131\n",
      "Name: count, dtype: int64\n",
      "Column: pets\n",
      "(d) no pets    510\n",
      "(a) both       367\n",
      "(c) cats        91\n",
      "(b) dogs        21\n",
      "Name: count, dtype: int64\n",
      "Column: housing_type\n",
      "(c) multi     937\n",
      "(a) single     40\n",
      "(b) double     12\n",
      "Name: count, dtype: int64\n",
      "Column: parking\n",
      "(d) no parking    478\n",
      "(b) protected     439\n",
      "(c) off-street     38\n",
      "(a) valet          34\n",
      "Name: count, dtype: int64\n",
      "Column: hood_district\n",
      "9.0     332\n",
      "8.0     207\n",
      "7.0     123\n",
      "5.0     106\n",
      "6.0      62\n",
      "2.0      51\n",
      "1.0      50\n",
      "10.0     33\n",
      "3.0      14\n",
      "4.0      11\n",
      "Name: count, dtype: int64\n"
     ]
    }
   ],
   "source": [
    "for column in rentals_df.select_dtypes('object'):\n",
    "    print(\"Column: \" + f\"{rentals_df[column].value_counts()}\")\n",
    "print(\"Column: \" + f\"{rentals_df['hood_district'].value_counts()}\")"
   ]
  },
  {
   "cell_type": "code",
   "execution_count": 10,
   "id": "e9ce4b2d",
   "metadata": {
    "scrolled": false
   },
   "outputs": [
    {
     "data": {
      "text/plain": [
       "<AxesSubplot:title={'center':'median'}, xlabel='hood_district'>"
      ]
     },
     "execution_count": 10,
     "metadata": {},
     "output_type": "execute_result"
    },
    {
     "data": {
      "image/png": "[encoded data removed]",
      "text/plain": [
       "<Figure size 432x288 with 1 Axes>"
      ]
     },
     "metadata": {
      "needs_background": "light"
     },
     "output_type": "display_data"
    },
    {
     "data": {
      "image/png": "[encoded data removed]",
      "text/plain": [
       "<Figure size 432x288 with 1 Axes>"
      ]
     },
     "metadata": {
      "needs_background": "light"
     },
     "output_type": "display_data"
    },
    {
     "data": {
      "image/png": "[encoded data removed]",
      "text/plain": [
       "<Figure size 432x288 with 1 Axes>"
      ]
     },
     "metadata": {
      "needs_background": "light"
     },
     "output_type": "display_data"
    },
    {
     "data": {
      "image/png": "[encoded data removed]",
      "text/plain": [
       "<Figure size 432x288 with 1 Axes>"
      ]
     },
     "metadata": {
      "needs_background": "light"
     },
     "output_type": "display_data"
    },
    {
     "data": {
      "image/png": "[encoded data removed]",
      "text/plain": [
       "<Figure size 432x288 with 1 Axes>"
      ]
     },
     "metadata": {
      "needs_background": "light"
     },
     "output_type": "display_data"
    },
    {
     "data": {
      "image/png": "[encoded data removed]",
      "text/plain": [
       "<Figure size 432x288 with 1 Axes>"
      ]
     },
     "metadata": {
      "needs_background": "light"
     },
     "output_type": "display_data"
    }
   ],
   "source": [
    "rentals_df.groupby('pets').agg({'price' : 'mean'}).plot.bar()\n",
    "rentals_df.groupby('laundry').agg({'price' : 'mean'}).plot.bar()\n",
    "rentals_df.groupby('housing_type').agg({'price' : 'mean'}).plot.bar()\n",
    "rentals_df.groupby('parking').agg({'price' : 'mean'}).plot.bar()\n",
    "rentals_df.groupby('hood_district').agg({'price' : 'mean'}).plot.bar(title='mean')\n",
    "rentals_df.groupby('hood_district').agg({'price' : 'median'}).plot.bar(title='median')"
   ]
  },
  {
   "cell_type": "markdown",
   "id": "f56457bf",
   "metadata": {},
   "source": [
    "Housing types can remain as 3 separate categories with clear price difference between each category. Laundry and parking can be reduced down to binary categories, in-unit or not and valet or not respectively. No pets and both pets do not seem to make too much of a difference in price while the difference between dogs allowed and cats allowed is more pronounced. This could be simplified to dogs or no dogs.\n",
    "\n",
    "For hood_district, there seems to be fairly significant differences in price per sector and sector 11 is not in the dataset. Sectors 2, 3, 10 are on average the lowest priced districts and Twin Peaks is the highest priced sector on average. Comparing to the median, it seems that sectors 5, 6, 7, 8, and 9 are fairly consistent in terms of price ranking. Could separate 5, 6, 7, 8, 9 into one common group and the rest into their own group. Twin Peaks and Southwest have very few data points so even though Twin Peaks mean is very high, it is probably due to outliers since its median ranks very low among sectors."
   ]
  },
  {
   "cell_type": "markdown",
   "id": "e33d1aeb",
   "metadata": {},
   "source": [
    "![image info](SFAR_map.png)"
   ]
  },
  {
   "cell_type": "markdown",
   "id": "00952509",
   "metadata": {},
   "source": [
    "## Feature Engineering\n"
   ]
  },
  {
   "cell_type": "code",
   "execution_count": 11,
   "id": "5415cbae",
   "metadata": {},
   "outputs": [
    {
     "data": {
      "text/html": [
       "<div>\n",
       "<style scoped>\n",
       "    .dataframe tbody tr th:only-of-type {\n",
       "        vertical-align: middle;\n",
       "    }\n",
       "\n",
       "    .dataframe tbody tr th {\n",
       "        vertical-align: top;\n",
       "    }\n",
       "\n",
       "    .dataframe thead th {\n",
       "        text-align: right;\n",
       "    }\n",
       "</style>\n",
       "<table border=\"1\" class=\"dataframe\">\n",
       "  <thead>\n",
       "    <tr style=\"text-align: right;\">\n",
       "      <th></th>\n",
       "      <th>price</th>\n",
       "      <th>sqft</th>\n",
       "      <th>valet</th>\n",
       "      <th>in_unit_laundry</th>\n",
       "      <th>dogs</th>\n",
       "      <th>northeast</th>\n",
       "      <th>beds_bath</th>\n",
       "      <th>sqft2</th>\n",
       "      <th>sqft3</th>\n",
       "      <th>beds_bath2</th>\n",
       "      <th>housing_type_(b) double</th>\n",
       "      <th>housing_type_(c) multi</th>\n",
       "    </tr>\n",
       "  </thead>\n",
       "  <tbody>\n",
       "    <tr>\n",
       "      <th>0</th>\n",
       "      <td>6800</td>\n",
       "      <td>1600.0</td>\n",
       "      <td>0</td>\n",
       "      <td>1</td>\n",
       "      <td>0</td>\n",
       "      <td>1</td>\n",
       "      <td>4.0</td>\n",
       "      <td>2560000.0</td>\n",
       "      <td>4.096000e+09</td>\n",
       "      <td>16.00</td>\n",
       "      <td>0</td>\n",
       "      <td>1</td>\n",
       "    </tr>\n",
       "    <tr>\n",
       "      <th>1</th>\n",
       "      <td>3500</td>\n",
       "      <td>550.0</td>\n",
       "      <td>0</td>\n",
       "      <td>1</td>\n",
       "      <td>1</td>\n",
       "      <td>1</td>\n",
       "      <td>2.0</td>\n",
       "      <td>302500.0</td>\n",
       "      <td>1.663750e+08</td>\n",
       "      <td>4.00</td>\n",
       "      <td>0</td>\n",
       "      <td>1</td>\n",
       "    </tr>\n",
       "    <tr>\n",
       "      <th>2</th>\n",
       "      <td>5100</td>\n",
       "      <td>1300.0</td>\n",
       "      <td>0</td>\n",
       "      <td>1</td>\n",
       "      <td>1</td>\n",
       "      <td>1</td>\n",
       "      <td>3.0</td>\n",
       "      <td>1690000.0</td>\n",
       "      <td>2.197000e+09</td>\n",
       "      <td>9.00</td>\n",
       "      <td>0</td>\n",
       "      <td>1</td>\n",
       "    </tr>\n",
       "    <tr>\n",
       "      <th>3</th>\n",
       "      <td>9000</td>\n",
       "      <td>3500.0</td>\n",
       "      <td>0</td>\n",
       "      <td>1</td>\n",
       "      <td>0</td>\n",
       "      <td>1</td>\n",
       "      <td>5.5</td>\n",
       "      <td>12250000.0</td>\n",
       "      <td>4.287500e+10</td>\n",
       "      <td>30.25</td>\n",
       "      <td>0</td>\n",
       "      <td>1</td>\n",
       "    </tr>\n",
       "    <tr>\n",
       "      <th>4</th>\n",
       "      <td>3100</td>\n",
       "      <td>561.0</td>\n",
       "      <td>0</td>\n",
       "      <td>0</td>\n",
       "      <td>1</td>\n",
       "      <td>1</td>\n",
       "      <td>2.0</td>\n",
       "      <td>314721.0</td>\n",
       "      <td>1.765585e+08</td>\n",
       "      <td>4.00</td>\n",
       "      <td>0</td>\n",
       "      <td>1</td>\n",
       "    </tr>\n",
       "  </tbody>\n",
       "</table>\n",
       "</div>"
      ],
      "text/plain": [
       "   price    sqft  valet  in_unit_laundry  dogs  northeast  beds_bath  \\\n",
       "0   6800  1600.0      0                1     0          1        4.0   \n",
       "1   3500   550.0      0                1     1          1        2.0   \n",
       "2   5100  1300.0      0                1     1          1        3.0   \n",
       "3   9000  3500.0      0                1     0          1        5.5   \n",
       "4   3100   561.0      0                0     1          1        2.0   \n",
       "\n",
       "        sqft2         sqft3  beds_bath2  housing_type_(b) double  \\\n",
       "0   2560000.0  4.096000e+09       16.00                        0   \n",
       "1    302500.0  1.663750e+08        4.00                        0   \n",
       "2   1690000.0  2.197000e+09        9.00                        0   \n",
       "3  12250000.0  4.287500e+10       30.25                        0   \n",
       "4    314721.0  1.765585e+08        4.00                        0   \n",
       "\n",
       "   housing_type_(c) multi  \n",
       "0                       1  \n",
       "1                       1  \n",
       "2                       1  \n",
       "3                       1  \n",
       "4                       1  "
      ]
     },
     "execution_count": 11,
     "metadata": {},
     "output_type": "execute_result"
    }
   ],
   "source": [
    "df_mod = rentals_df.assign(\n",
    "    valet = np.where(rentals_df['parking'] == '(a) valet', 1, 0),\n",
    "    in_unit_laundry = np.where(rentals_df['laundry'] == '(a) in-unit', 1, 0),\n",
    "    dogs = np.where((rentals_df['pets'] == '(a) both') | (rentals_df['pets'] == '(b) dogs'), 1, 0),\n",
    "    northeast = np.where((rentals_df['hood_district'] == 5) | (rentals_df['hood_district'] == 6) | (rentals_df['hood_district'] == 7) | (rentals_df['hood_district'] == 8) | (rentals_df['hood_district'] == 9), 1, 0),\n",
    "    beds_bath = rentals_df['beds'] + rentals_df['bath'],\n",
    "    sqft2 = rentals_df['sqft']**2,\n",
    "    sqft3 = rentals_df['sqft']**3,\n",
    "    beds_bath2 = (rentals_df['beds'] + rentals_df['bath'])**2\n",
    ").drop([\n",
    "    'laundry',\n",
    "    'parking',\n",
    "    'pets',\n",
    "    'hood_district',\n",
    "    'beds',\n",
    "#     'sqft',\n",
    "    'bath'\n",
    "], axis=1)\n",
    "\n",
    "df_mod=pd.get_dummies(df_mod, drop_first=True, dtype=int)\n",
    "df_mod.head()"
   ]
  },
  {
   "cell_type": "code",
   "execution_count": 12,
   "id": "12860077",
   "metadata": {
    "scrolled": false
   },
   "outputs": [
    {
     "data": {
      "text/html": [
       "<div>\n",
       "<style scoped>\n",
       "    .dataframe tbody tr th:only-of-type {\n",
       "        vertical-align: middle;\n",
       "    }\n",
       "\n",
       "    .dataframe tbody tr th {\n",
       "        vertical-align: top;\n",
       "    }\n",
       "\n",
       "    .dataframe thead th {\n",
       "        text-align: right;\n",
       "    }\n",
       "</style>\n",
       "<table border=\"1\" class=\"dataframe\">\n",
       "  <thead>\n",
       "    <tr style=\"text-align: right;\">\n",
       "      <th></th>\n",
       "      <th>price</th>\n",
       "      <th>sqft</th>\n",
       "      <th>valet</th>\n",
       "      <th>in_unit_laundry</th>\n",
       "      <th>dogs</th>\n",
       "      <th>northeast</th>\n",
       "      <th>beds_bath</th>\n",
       "      <th>sqft2</th>\n",
       "      <th>sqft3</th>\n",
       "      <th>beds_bath2</th>\n",
       "      <th>housing_type_(b) double</th>\n",
       "      <th>housing_type_(c) multi</th>\n",
       "    </tr>\n",
       "  </thead>\n",
       "  <tbody>\n",
       "    <tr>\n",
       "      <th>price</th>\n",
       "      <td>1.000000</td>\n",
       "      <td>0.835834</td>\n",
       "      <td>0.220353</td>\n",
       "      <td>0.360382</td>\n",
       "      <td>0.092655</td>\n",
       "      <td>0.127518</td>\n",
       "      <td>0.744511</td>\n",
       "      <td>0.801532</td>\n",
       "      <td>0.709794</td>\n",
       "      <td>0.732352</td>\n",
       "      <td>-0.109943</td>\n",
       "      <td>-0.097273</td>\n",
       "    </tr>\n",
       "    <tr>\n",
       "      <th>sqft</th>\n",
       "      <td>0.835834</td>\n",
       "      <td>1.000000</td>\n",
       "      <td>0.097774</td>\n",
       "      <td>0.298605</td>\n",
       "      <td>0.062188</td>\n",
       "      <td>-0.003124</td>\n",
       "      <td>0.821717</td>\n",
       "      <td>0.948022</td>\n",
       "      <td>0.827640</td>\n",
       "      <td>0.800637</td>\n",
       "      <td>-0.102134</td>\n",
       "      <td>-0.173378</td>\n",
       "    </tr>\n",
       "    <tr>\n",
       "      <th>valet</th>\n",
       "      <td>0.220353</td>\n",
       "      <td>0.097774</td>\n",
       "      <td>1.000000</td>\n",
       "      <td>0.168982</td>\n",
       "      <td>0.030248</td>\n",
       "      <td>0.082584</td>\n",
       "      <td>0.037585</td>\n",
       "      <td>0.087280</td>\n",
       "      <td>0.068074</td>\n",
       "      <td>0.021455</td>\n",
       "      <td>-0.020911</td>\n",
       "      <td>0.044450</td>\n",
       "    </tr>\n",
       "    <tr>\n",
       "      <th>in_unit_laundry</th>\n",
       "      <td>0.360382</td>\n",
       "      <td>0.298605</td>\n",
       "      <td>0.168982</td>\n",
       "      <td>1.000000</td>\n",
       "      <td>0.263227</td>\n",
       "      <td>0.200718</td>\n",
       "      <td>0.273800</td>\n",
       "      <td>0.246372</td>\n",
       "      <td>0.189499</td>\n",
       "      <td>0.241928</td>\n",
       "      <td>-0.072434</td>\n",
       "      <td>-0.003097</td>\n",
       "    </tr>\n",
       "    <tr>\n",
       "      <th>dogs</th>\n",
       "      <td>0.092655</td>\n",
       "      <td>0.062188</td>\n",
       "      <td>0.030248</td>\n",
       "      <td>0.263227</td>\n",
       "      <td>1.000000</td>\n",
       "      <td>0.143076</td>\n",
       "      <td>0.076067</td>\n",
       "      <td>0.048331</td>\n",
       "      <td>0.035881</td>\n",
       "      <td>0.058105</td>\n",
       "      <td>-0.070133</td>\n",
       "      <td>0.105777</td>\n",
       "    </tr>\n",
       "    <tr>\n",
       "      <th>northeast</th>\n",
       "      <td>0.127518</td>\n",
       "      <td>-0.003124</td>\n",
       "      <td>0.082584</td>\n",
       "      <td>0.200718</td>\n",
       "      <td>0.143076</td>\n",
       "      <td>1.000000</td>\n",
       "      <td>-0.032963</td>\n",
       "      <td>-0.039854</td>\n",
       "      <td>-0.062586</td>\n",
       "      <td>-0.053578</td>\n",
       "      <td>-0.253212</td>\n",
       "      <td>0.377900</td>\n",
       "    </tr>\n",
       "    <tr>\n",
       "      <th>beds_bath</th>\n",
       "      <td>0.744511</td>\n",
       "      <td>0.821717</td>\n",
       "      <td>0.037585</td>\n",
       "      <td>0.273800</td>\n",
       "      <td>0.076067</td>\n",
       "      <td>-0.032963</td>\n",
       "      <td>1.000000</td>\n",
       "      <td>0.720491</td>\n",
       "      <td>0.573766</td>\n",
       "      <td>0.965788</td>\n",
       "      <td>-0.066929</td>\n",
       "      <td>-0.145026</td>\n",
       "    </tr>\n",
       "    <tr>\n",
       "      <th>sqft2</th>\n",
       "      <td>0.801532</td>\n",
       "      <td>0.948022</td>\n",
       "      <td>0.087280</td>\n",
       "      <td>0.246372</td>\n",
       "      <td>0.048331</td>\n",
       "      <td>-0.039854</td>\n",
       "      <td>0.720491</td>\n",
       "      <td>1.000000</td>\n",
       "      <td>0.960100</td>\n",
       "      <td>0.746791</td>\n",
       "      <td>-0.070420</td>\n",
       "      <td>-0.214661</td>\n",
       "    </tr>\n",
       "    <tr>\n",
       "      <th>sqft3</th>\n",
       "      <td>0.709794</td>\n",
       "      <td>0.827640</td>\n",
       "      <td>0.068074</td>\n",
       "      <td>0.189499</td>\n",
       "      <td>0.035881</td>\n",
       "      <td>-0.062586</td>\n",
       "      <td>0.573766</td>\n",
       "      <td>0.960100</td>\n",
       "      <td>1.000000</td>\n",
       "      <td>0.628215</td>\n",
       "      <td>-0.045904</td>\n",
       "      <td>-0.225215</td>\n",
       "    </tr>\n",
       "    <tr>\n",
       "      <th>beds_bath2</th>\n",
       "      <td>0.732352</td>\n",
       "      <td>0.800637</td>\n",
       "      <td>0.021455</td>\n",
       "      <td>0.241928</td>\n",
       "      <td>0.058105</td>\n",
       "      <td>-0.053578</td>\n",
       "      <td>0.965788</td>\n",
       "      <td>0.746791</td>\n",
       "      <td>0.628215</td>\n",
       "      <td>1.000000</td>\n",
       "      <td>-0.063492</td>\n",
       "      <td>-0.162261</td>\n",
       "    </tr>\n",
       "    <tr>\n",
       "      <th>housing_type_(b) double</th>\n",
       "      <td>-0.109943</td>\n",
       "      <td>-0.102134</td>\n",
       "      <td>-0.020911</td>\n",
       "      <td>-0.072434</td>\n",
       "      <td>-0.070133</td>\n",
       "      <td>-0.253212</td>\n",
       "      <td>-0.066929</td>\n",
       "      <td>-0.070420</td>\n",
       "      <td>-0.045904</td>\n",
       "      <td>-0.063492</td>\n",
       "      <td>1.000000</td>\n",
       "      <td>-0.470448</td>\n",
       "    </tr>\n",
       "    <tr>\n",
       "      <th>housing_type_(c) multi</th>\n",
       "      <td>-0.097273</td>\n",
       "      <td>-0.173378</td>\n",
       "      <td>0.044450</td>\n",
       "      <td>-0.003097</td>\n",
       "      <td>0.105777</td>\n",
       "      <td>0.377900</td>\n",
       "      <td>-0.145026</td>\n",
       "      <td>-0.214661</td>\n",
       "      <td>-0.225215</td>\n",
       "      <td>-0.162261</td>\n",
       "      <td>-0.470448</td>\n",
       "      <td>1.000000</td>\n",
       "    </tr>\n",
       "  </tbody>\n",
       "</table>\n",
       "</div>"
      ],
      "text/plain": [
       "                            price      sqft     valet  in_unit_laundry  \\\n",
       "price                    1.000000  0.835834  0.220353         0.360382   \n",
       "sqft                     0.835834  1.000000  0.097774         0.298605   \n",
       "valet                    0.220353  0.097774  1.000000         0.168982   \n",
       "in_unit_laundry          0.360382  0.298605  0.168982         1.000000   \n",
       "dogs                     0.092655  0.062188  0.030248         0.263227   \n",
       "northeast                0.127518 -0.003124  0.082584         0.200718   \n",
       "beds_bath                0.744511  0.821717  0.037585         0.273800   \n",
       "sqft2                    0.801532  0.948022  0.087280         0.246372   \n",
       "sqft3                    0.709794  0.827640  0.068074         0.189499   \n",
       "beds_bath2               0.732352  0.800637  0.021455         0.241928   \n",
       "housing_type_(b) double -0.109943 -0.102134 -0.020911        -0.072434   \n",
       "housing_type_(c) multi  -0.097273 -0.173378  0.044450        -0.003097   \n",
       "\n",
       "                             dogs  northeast  beds_bath     sqft2     sqft3  \\\n",
       "price                    0.092655   0.127518   0.744511  0.801532  0.709794   \n",
       "sqft                     0.062188  -0.003124   0.821717  0.948022  0.827640   \n",
       "valet                    0.030248   0.082584   0.037585  0.087280  0.068074   \n",
       "in_unit_laundry          0.263227   0.200718   0.273800  0.246372  0.189499   \n",
       "dogs                     1.000000   0.143076   0.076067  0.048331  0.035881   \n",
       "northeast                0.143076   1.000000  -0.032963 -0.039854 -0.062586   \n",
       "beds_bath                0.076067  -0.032963   1.000000  0.720491  0.573766   \n",
       "sqft2                    0.048331  -0.039854   0.720491  1.000000  0.960100   \n",
       "sqft3                    0.035881  -0.062586   0.573766  0.960100  1.000000   \n",
       "beds_bath2               0.058105  -0.053578   0.965788  0.746791  0.628215   \n",
       "housing_type_(b) double -0.070133  -0.253212  -0.066929 -0.070420 -0.045904   \n",
       "housing_type_(c) multi   0.105777   0.377900  -0.145026 -0.214661 -0.225215   \n",
       "\n",
       "                         beds_bath2  housing_type_(b) double  \\\n",
       "price                      0.732352                -0.109943   \n",
       "sqft                       0.800637                -0.102134   \n",
       "valet                      0.021455                -0.020911   \n",
       "in_unit_laundry            0.241928                -0.072434   \n",
       "dogs                       0.058105                -0.070133   \n",
       "northeast                 -0.053578                -0.253212   \n",
       "beds_bath                  0.965788                -0.066929   \n",
       "sqft2                      0.746791                -0.070420   \n",
       "sqft3                      0.628215                -0.045904   \n",
       "beds_bath2                 1.000000                -0.063492   \n",
       "housing_type_(b) double   -0.063492                 1.000000   \n",
       "housing_type_(c) multi    -0.162261                -0.470448   \n",
       "\n",
       "                         housing_type_(c) multi  \n",
       "price                                 -0.097273  \n",
       "sqft                                  -0.173378  \n",
       "valet                                  0.044450  \n",
       "in_unit_laundry                       -0.003097  \n",
       "dogs                                   0.105777  \n",
       "northeast                              0.377900  \n",
       "beds_bath                             -0.145026  \n",
       "sqft2                                 -0.214661  \n",
       "sqft3                                 -0.225215  \n",
       "beds_bath2                            -0.162261  \n",
       "housing_type_(b) double               -0.470448  \n",
       "housing_type_(c) multi                 1.000000  "
      ]
     },
     "execution_count": 12,
     "metadata": {},
     "output_type": "execute_result"
    }
   ],
   "source": [
    "df_mod.corr()"
   ]
  },
  {
   "cell_type": "markdown",
   "id": "b0950108",
   "metadata": {},
   "source": [
    "## Data Splitting"
   ]
  },
  {
   "cell_type": "code",
   "execution_count": 13,
   "id": "4955efc7",
   "metadata": {},
   "outputs": [],
   "source": [
    "from sklearn.model_selection import train_test_split\n",
    "\n",
    "features = [\n",
    "    'sqft',\n",
    "    'sqft2',\n",
    "#     'sqft3',\n",
    "#     'beds',\n",
    "#     'bath',\n",
    "    'beds_bath',\n",
    "#     'beds_bath2',\n",
    "    'valet',\n",
    "    'in_unit_laundry',\n",
    "#     'dogs',\n",
    "    'northeast',\n",
    "#     'housing_type_(b) double',\n",
    "#     'housing_type_(c) multi'\n",
    "]\n",
    "X = sm.add_constant(df_mod[features])\n",
    "# y = np.log(df_mod[\"price\"])\n",
    "y = pd.DataFrame({'price': boxcox})\n",
    "\n",
    "X, X_test, y, y_test = train_test_split(X, y, test_size=0.2, shuffle=True, random_state=2025)"
   ]
  },
  {
   "cell_type": "markdown",
   "id": "0117d1e6",
   "metadata": {},
   "source": [
    "## Model Fitting & Validation Scoring"
   ]
  },
  {
   "cell_type": "code",
   "execution_count": 14,
   "id": "d4c60fdf",
   "metadata": {},
   "outputs": [],
   "source": [
    "from scipy.special import inv_boxcox"
   ]
  },
  {
   "cell_type": "code",
   "execution_count": 15,
   "id": "68a66cf2",
   "metadata": {},
   "outputs": [
    {
     "name": "stdout",
     "output_type": "stream",
     "text": [
      "All Validation R2s:  [0.77, 0.709, 0.854, 0.767, 0.805]\n",
      "Cross Val R2s: 0.781 +- 0.048\n",
      "All Validation MAEs:  [523.385, 591.239, 514.271, 496.016, 500.742]\n",
      "Cross Val MAEs: 525.131 +- 34.449\n"
     ]
    }
   ],
   "source": [
    "kf = KFold(n_splits=5, shuffle=True, random_state=2025)\n",
    "\n",
    "cv_r2 = []\n",
    "cv_mae = []\n",
    "\n",
    "for train_i, val_i in kf.split(X,y):\n",
    "    X_train, y_train = X.iloc[train_i], y.iloc[train_i]\n",
    "    X_val, y_val = X.iloc[val_i], y.iloc[val_i]\n",
    "    model = sm.OLS(y_train, X_train).fit()\n",
    "    cv_r2.append(r2(y_val, model.predict(X_val)))\n",
    "    cv_mae.append(mae(inv_boxcox(y_val, calc_lambda), inv_boxcox(model.predict(X_val), calc_lambda)))\n",
    "    \n",
    "print(\"All Validation R2s: \", [round(x, 3) for x in cv_r2])\n",
    "print(f\"Cross Val R2s: {round(np.mean(cv_r2), 3)} +- {round(np.std(cv_r2), 3)}\")\n",
    "\n",
    "print(\"All Validation MAEs: \", [round(x, 3) for x in cv_mae])\n",
    "print(f\"Cross Val MAEs: {round(np.mean(cv_mae), 3)} +- {round(np.std(cv_mae), 3)}\")  "
   ]
  },
  {
   "cell_type": "code",
   "execution_count": 16,
   "id": "ca5984fd",
   "metadata": {
    "scrolled": false
   },
   "outputs": [
    {
     "data": {
      "text/html": [
       "<table class=\"simpletable\">\n",
       "<caption>OLS Regression Results</caption>\n",
       "<tr>\n",
       "  <th>Dep. Variable:</th>          <td>price</td>      <th>  R-squared:         </th> <td>   0.790</td> \n",
       "</tr>\n",
       "<tr>\n",
       "  <th>Model:</th>                   <td>OLS</td>       <th>  Adj. R-squared:    </th> <td>   0.788</td> \n",
       "</tr>\n",
       "<tr>\n",
       "  <th>Method:</th>             <td>Least Squares</td>  <th>  F-statistic:       </th> <td>   392.9</td> \n",
       "</tr>\n",
       "<tr>\n",
       "  <th>Date:</th>             <td>Thu, 25 Sep 2025</td> <th>  Prob (F-statistic):</th> <td>1.68e-208</td>\n",
       "</tr>\n",
       "<tr>\n",
       "  <th>Time:</th>                 <td>17:49:11</td>     <th>  Log-Likelihood:    </th> <td>  1073.1</td> \n",
       "</tr>\n",
       "<tr>\n",
       "  <th>No. Observations:</th>      <td>   633</td>      <th>  AIC:               </th> <td>  -2132.</td> \n",
       "</tr>\n",
       "<tr>\n",
       "  <th>Df Residuals:</th>          <td>   626</td>      <th>  BIC:               </th> <td>  -2101.</td> \n",
       "</tr>\n",
       "<tr>\n",
       "  <th>Df Model:</th>              <td>     6</td>      <th>                     </th>     <td> </td>    \n",
       "</tr>\n",
       "<tr>\n",
       "  <th>Covariance Type:</th>      <td>nonrobust</td>    <th>                     </th>     <td> </td>    \n",
       "</tr>\n",
       "</table>\n",
       "<table class=\"simpletable\">\n",
       "<tr>\n",
       "         <td></td>            <th>coef</th>     <th>std err</th>      <th>t</th>      <th>P>|t|</th>  <th>[0.025</th>    <th>0.975]</th>  \n",
       "</tr>\n",
       "<tr>\n",
       "  <th>const</th>           <td>    4.1445</td> <td>    0.008</td> <td>  520.527</td> <td> 0.000</td> <td>    4.129</td> <td>    4.160</td>\n",
       "</tr>\n",
       "<tr>\n",
       "  <th>sqft</th>            <td>    0.0002</td> <td> 1.49e-05</td> <td>   14.582</td> <td> 0.000</td> <td>    0.000</td> <td>    0.000</td>\n",
       "</tr>\n",
       "<tr>\n",
       "  <th>sqft2</th>           <td>-3.468e-08</td> <td> 4.19e-09</td> <td>   -8.269</td> <td> 0.000</td> <td>-4.29e-08</td> <td>-2.64e-08</td>\n",
       "</tr>\n",
       "<tr>\n",
       "  <th>beds_bath</th>       <td>    0.0142</td> <td>    0.002</td> <td>    6.613</td> <td> 0.000</td> <td>    0.010</td> <td>    0.018</td>\n",
       "</tr>\n",
       "<tr>\n",
       "  <th>valet</th>           <td>    0.0399</td> <td>    0.010</td> <td>    3.860</td> <td> 0.000</td> <td>    0.020</td> <td>    0.060</td>\n",
       "</tr>\n",
       "<tr>\n",
       "  <th>in_unit_laundry</th> <td>    0.0192</td> <td>    0.004</td> <td>    4.960</td> <td> 0.000</td> <td>    0.012</td> <td>    0.027</td>\n",
       "</tr>\n",
       "<tr>\n",
       "  <th>northeast</th>       <td>    0.0406</td> <td>    0.005</td> <td>    8.104</td> <td> 0.000</td> <td>    0.031</td> <td>    0.050</td>\n",
       "</tr>\n",
       "</table>\n",
       "<table class=\"simpletable\">\n",
       "<tr>\n",
       "  <th>Omnibus:</th>       <td>20.690</td> <th>  Durbin-Watson:     </th> <td>   1.990</td>\n",
       "</tr>\n",
       "<tr>\n",
       "  <th>Prob(Omnibus):</th> <td> 0.000</td> <th>  Jarque-Bera (JB):  </th> <td>  34.426</td>\n",
       "</tr>\n",
       "<tr>\n",
       "  <th>Skew:</th>          <td>-0.240</td> <th>  Prob(JB):          </th> <td>3.35e-08</td>\n",
       "</tr>\n",
       "<tr>\n",
       "  <th>Kurtosis:</th>      <td> 4.036</td> <th>  Cond. No.          </th> <td>1.08e+07</td>\n",
       "</tr>\n",
       "</table><br/><br/>Notes:<br/>[1] Standard Errors assume that the covariance matrix of the errors is correctly specified.<br/>[2] The condition number is large, 1.08e+07. This might indicate that there are<br/>strong multicollinearity or other numerical problems."
      ],
      "text/plain": [
       "<class 'statsmodels.iolib.summary.Summary'>\n",
       "\"\"\"\n",
       "                            OLS Regression Results                            \n",
       "==============================================================================\n",
       "Dep. Variable:                  price   R-squared:                       0.790\n",
       "Model:                            OLS   Adj. R-squared:                  0.788\n",
       "Method:                 Least Squares   F-statistic:                     392.9\n",
       "Date:                Thu, 25 Sep 2025   Prob (F-statistic):          1.68e-208\n",
       "Time:                        17:49:11   Log-Likelihood:                 1073.1\n",
       "No. Observations:                 633   AIC:                            -2132.\n",
       "Df Residuals:                     626   BIC:                            -2101.\n",
       "Df Model:                           6                                         \n",
       "Covariance Type:            nonrobust                                         \n",
       "===================================================================================\n",
       "                      coef    std err          t      P>|t|      [0.025      0.975]\n",
       "-----------------------------------------------------------------------------------\n",
       "const               4.1445      0.008    520.527      0.000       4.129       4.160\n",
       "sqft                0.0002   1.49e-05     14.582      0.000       0.000       0.000\n",
       "sqft2           -3.468e-08   4.19e-09     -8.269      0.000   -4.29e-08   -2.64e-08\n",
       "beds_bath           0.0142      0.002      6.613      0.000       0.010       0.018\n",
       "valet               0.0399      0.010      3.860      0.000       0.020       0.060\n",
       "in_unit_laundry     0.0192      0.004      4.960      0.000       0.012       0.027\n",
       "northeast           0.0406      0.005      8.104      0.000       0.031       0.050\n",
       "==============================================================================\n",
       "Omnibus:                       20.690   Durbin-Watson:                   1.990\n",
       "Prob(Omnibus):                  0.000   Jarque-Bera (JB):               34.426\n",
       "Skew:                          -0.240   Prob(JB):                     3.35e-08\n",
       "Kurtosis:                       4.036   Cond. No.                     1.08e+07\n",
       "==============================================================================\n",
       "\n",
       "Notes:\n",
       "[1] Standard Errors assume that the covariance matrix of the errors is correctly specified.\n",
       "[2] The condition number is large, 1.08e+07. This might indicate that there are\n",
       "strong multicollinearity or other numerical problems.\n",
       "\"\"\""
      ]
     },
     "execution_count": 16,
     "metadata": {},
     "output_type": "execute_result"
    }
   ],
   "source": [
    "model.summary()"
   ]
  },
  {
   "cell_type": "markdown",
   "id": "5cd00418",
   "metadata": {},
   "source": [
    "## Assumptions Checking"
   ]
  },
  {
   "cell_type": "markdown",
   "id": "893e051c",
   "metadata": {},
   "source": [
    "Durbin-Watson in model summary very close to 2 so errors are independent of each other."
   ]
  },
  {
   "cell_type": "code",
   "execution_count": 17,
   "id": "2ce961f6",
   "metadata": {},
   "outputs": [],
   "source": [
    "def residual_analysis_plots(model):\n",
    "    \n",
    "    import scipy.stats as stats\n",
    "    import matplotlib.pyplot as plt\n",
    "    \n",
    "    predictions = model.predict()\n",
    "    residuals = model.resid\n",
    "    \n",
    "    fig, ax = plt.subplots(1, 2, sharey=\"all\", figsize=(10, 6))\n",
    "    \n",
    "    sns.scatterplot(x=predictions, y=residuals, ax=ax[0], alpha=.3)\n",
    "    ax[0].set_title(\"Residual Plot\")\n",
    "    ax[0].set_xlabel(\"Prediction\")\n",
    "    ax[0].set_ylabel(\"Residuals\")\n",
    "    \n",
    "    stats.probplot(residuals, dist=\"norm\", plot=ax[1])\n",
    "    ax[1].set_title(\"Normal Q-Q Plot\")   \n"
   ]
  },
  {
   "cell_type": "code",
   "execution_count": 18,
   "id": "430dd669",
   "metadata": {
    "scrolled": false
   },
   "outputs": [
    {
     "data": {
      "image/png": "[encoded data removed]",
      "text/plain": [
       "<Figure size 720x432 with 2 Axes>"
      ]
     },
     "metadata": {
      "needs_background": "light"
     },
     "output_type": "display_data"
    }
   ],
   "source": [
    "residual_analysis_plots(model)"
   ]
  },
  {
   "cell_type": "markdown",
   "id": "dd03b857",
   "metadata": {},
   "source": [
    "Residuals seem to be normally distributed with roughly equal variance."
   ]
  },
  {
   "cell_type": "code",
   "execution_count": 19,
   "id": "a7d9daaa",
   "metadata": {},
   "outputs": [],
   "source": [
    "influence = model.get_influence()\n",
    "inf_summary_df = influence.summary_frame()"
   ]
  },
  {
   "cell_type": "code",
   "execution_count": 20,
   "id": "0534242b",
   "metadata": {
    "scrolled": false
   },
   "outputs": [
    {
     "data": {
      "text/plain": [
       "11     0.349126\n",
       "56     0.106682\n",
       "253    0.090052\n",
       "602    0.036065\n",
       "561    0.028063\n",
       "Name: cooks_d, dtype: float64"
      ]
     },
     "execution_count": 20,
     "metadata": {},
     "output_type": "execute_result"
    }
   ],
   "source": [
    "inf_summary_df[\"cooks_d\"].sort_values(ascending=False).head()"
   ]
  },
  {
   "cell_type": "markdown",
   "id": "f5edaf31",
   "metadata": {},
   "source": [
    "No influential points detected (Cook's D < 0.5)"
   ]
  },
  {
   "cell_type": "code",
   "execution_count": 21,
   "id": "bf81d683",
   "metadata": {},
   "outputs": [
    {
     "data": {
      "text/plain": [
       "const              19.671697\n",
       "sqft               16.788734\n",
       "sqft2              11.114780\n",
       "beds_bath           3.492738\n",
       "valet               1.040238\n",
       "in_unit_laundry     1.197155\n",
       "northeast           1.073007\n",
       "dtype: float64"
      ]
     },
     "execution_count": 21,
     "metadata": {},
     "output_type": "execute_result"
    }
   ],
   "source": [
    "from statsmodels.stats.outliers_influence import variance_inflation_factor as vif\n",
    "\n",
    "variables = sm.OLS(y, X).exog\n",
    "\n",
    "pd.Series(\n",
    "    [vif(variables, i) for i in range(variables.shape[1])],\n",
    "    index=X.columns\n",
    ")"
   ]
  },
  {
   "cell_type": "markdown",
   "id": "b0187622",
   "metadata": {},
   "source": [
    "All VIFs, disregarding multiple polynomial terms, are below 5 so there is no perfect multicollinearity present."
   ]
  },
  {
   "cell_type": "markdown",
   "id": "29894141",
   "metadata": {},
   "source": [
    "## Final Model Fit & Test Scoring"
   ]
  },
  {
   "cell_type": "code",
   "execution_count": 22,
   "id": "382f54db",
   "metadata": {
    "scrolled": true
   },
   "outputs": [
    {
     "name": "stdout",
     "output_type": "stream",
     "text": [
      "Test R2: 0.7894811327873623\n",
      "Test MAE: 433.5932595529336\n"
     ]
    }
   ],
   "source": [
    "print(f\"Test R2: {r2(y_test, model.predict(X_test))}\")\n",
    "print(f\"Test MAE: {mae(inv_boxcox(y_test, calc_lambda), inv_boxcox(model.predict(X_test), calc_lambda))}\")"
   ]
  },
  {
   "cell_type": "markdown",
   "id": "83338738",
   "metadata": {},
   "source": [
    "# Regularized Regression Models\n",
    "\n",
    "Exploring Ridge, Lasso, and ElasticNet regression models that predict the `price` column in the dataset on San Francisco Apartment rentals. These models build off of simple linear regression and improve by preventing overfitting during the training phase. They also allow for more freedom when it comes to expanding the list of model features since the algorithm will help prevent overfitting and this will hopefully result in a better predictive model."
   ]
  },
  {
   "cell_type": "code",
   "execution_count": 23,
   "id": "61a577cb",
   "metadata": {},
   "outputs": [
    {
     "data": {
      "text/html": [
       "<div>\n",
       "<style scoped>\n",
       "    .dataframe tbody tr th:only-of-type {\n",
       "        vertical-align: middle;\n",
       "    }\n",
       "\n",
       "    .dataframe tbody tr th {\n",
       "        vertical-align: top;\n",
       "    }\n",
       "\n",
       "    .dataframe thead th {\n",
       "        text-align: right;\n",
       "    }\n",
       "</style>\n",
       "<table border=\"1\" class=\"dataframe\">\n",
       "  <thead>\n",
       "    <tr style=\"text-align: right;\">\n",
       "      <th></th>\n",
       "      <th>price</th>\n",
       "      <th>sqft</th>\n",
       "      <th>beds</th>\n",
       "      <th>bath</th>\n",
       "      <th>laundry</th>\n",
       "      <th>pets</th>\n",
       "      <th>housing_type</th>\n",
       "      <th>parking</th>\n",
       "      <th>hood_district</th>\n",
       "    </tr>\n",
       "  </thead>\n",
       "  <tbody>\n",
       "    <tr>\n",
       "      <th>0</th>\n",
       "      <td>6800</td>\n",
       "      <td>1600.0</td>\n",
       "      <td>2.0</td>\n",
       "      <td>2.0</td>\n",
       "      <td>(a) in-unit</td>\n",
       "      <td>(d) no pets</td>\n",
       "      <td>(c) multi</td>\n",
       "      <td>(b) protected</td>\n",
       "      <td>7.0</td>\n",
       "    </tr>\n",
       "    <tr>\n",
       "      <th>1</th>\n",
       "      <td>3500</td>\n",
       "      <td>550.0</td>\n",
       "      <td>1.0</td>\n",
       "      <td>1.0</td>\n",
       "      <td>(a) in-unit</td>\n",
       "      <td>(a) both</td>\n",
       "      <td>(c) multi</td>\n",
       "      <td>(b) protected</td>\n",
       "      <td>7.0</td>\n",
       "    </tr>\n",
       "    <tr>\n",
       "      <th>2</th>\n",
       "      <td>5100</td>\n",
       "      <td>1300.0</td>\n",
       "      <td>2.0</td>\n",
       "      <td>1.0</td>\n",
       "      <td>(a) in-unit</td>\n",
       "      <td>(a) both</td>\n",
       "      <td>(c) multi</td>\n",
       "      <td>(d) no parking</td>\n",
       "      <td>7.0</td>\n",
       "    </tr>\n",
       "    <tr>\n",
       "      <th>3</th>\n",
       "      <td>9000</td>\n",
       "      <td>3500.0</td>\n",
       "      <td>3.0</td>\n",
       "      <td>2.5</td>\n",
       "      <td>(a) in-unit</td>\n",
       "      <td>(d) no pets</td>\n",
       "      <td>(c) multi</td>\n",
       "      <td>(b) protected</td>\n",
       "      <td>7.0</td>\n",
       "    </tr>\n",
       "    <tr>\n",
       "      <th>4</th>\n",
       "      <td>3100</td>\n",
       "      <td>561.0</td>\n",
       "      <td>1.0</td>\n",
       "      <td>1.0</td>\n",
       "      <td>(c) no laundry</td>\n",
       "      <td>(a) both</td>\n",
       "      <td>(c) multi</td>\n",
       "      <td>(d) no parking</td>\n",
       "      <td>7.0</td>\n",
       "    </tr>\n",
       "  </tbody>\n",
       "</table>\n",
       "</div>"
      ],
      "text/plain": [
       "   price    sqft  beds  bath         laundry         pets housing_type  \\\n",
       "0   6800  1600.0   2.0   2.0     (a) in-unit  (d) no pets    (c) multi   \n",
       "1   3500   550.0   1.0   1.0     (a) in-unit     (a) both    (c) multi   \n",
       "2   5100  1300.0   2.0   1.0     (a) in-unit     (a) both    (c) multi   \n",
       "3   9000  3500.0   3.0   2.5     (a) in-unit  (d) no pets    (c) multi   \n",
       "4   3100   561.0   1.0   1.0  (c) no laundry     (a) both    (c) multi   \n",
       "\n",
       "          parking  hood_district  \n",
       "0   (b) protected            7.0  \n",
       "1   (b) protected            7.0  \n",
       "2  (d) no parking            7.0  \n",
       "3   (b) protected            7.0  \n",
       "4  (d) no parking            7.0  "
      ]
     },
     "execution_count": 23,
     "metadata": {},
     "output_type": "execute_result"
    }
   ],
   "source": [
    "rentals_df.head()"
   ]
  },
  {
   "cell_type": "markdown",
   "id": "c5f56df6",
   "metadata": {},
   "source": [
    "### Data Dictionary\n",
    "\n",
    "1. Price: The price of the rental and our target variable\n",
    "2. sqft: The area in square feet of the rental\n",
    "3. beds: The number of bedrooms in the rental\n",
    "4. bath: The number of bathrooms in the rental\n",
    "5. laundry: Does the rental have a laundry machine inside the house, a shared laundry machine, or no laundry on site?\n",
    "6. pets: Does the rental allow pets? Cats only, dogs only or both cats and dogs?\n",
    "7. Housing type: Is the rental in a multi-unit building, a building with two units, or a stand alone house? \n",
    "8. Parking: Does the apartment off a parking space? No, protected in a garage, off-street in a parking lot, or valet service?\n",
    "9. Hood district: Which part of San Francisco is the apartment located?\n",
    "\n",
    "![image info](SFAR_map.png)"
   ]
  },
  {
   "cell_type": "markdown",
   "id": "a9ba6364",
   "metadata": {},
   "source": [
    "## Feature Engineering"
   ]
  },
  {
   "cell_type": "code",
   "execution_count": 24,
   "id": "8a911dc6",
   "metadata": {},
   "outputs": [
    {
     "data": {
      "text/html": [
       "<div>\n",
       "<style scoped>\n",
       "    .dataframe tbody tr th:only-of-type {\n",
       "        vertical-align: middle;\n",
       "    }\n",
       "\n",
       "    .dataframe tbody tr th {\n",
       "        vertical-align: top;\n",
       "    }\n",
       "\n",
       "    .dataframe thead th {\n",
       "        text-align: right;\n",
       "    }\n",
       "</style>\n",
       "<table border=\"1\" class=\"dataframe\">\n",
       "  <thead>\n",
       "    <tr style=\"text-align: right;\">\n",
       "      <th></th>\n",
       "      <th>price</th>\n",
       "      <th>sqft</th>\n",
       "      <th>beds</th>\n",
       "      <th>bath</th>\n",
       "      <th>valet</th>\n",
       "      <th>in_unit_laundry</th>\n",
       "      <th>dogs</th>\n",
       "      <th>northeast</th>\n",
       "      <th>beds_bath</th>\n",
       "      <th>sqft2</th>\n",
       "      <th>sqft3</th>\n",
       "      <th>beds_bath2</th>\n",
       "      <th>beds2</th>\n",
       "      <th>beds3</th>\n",
       "      <th>bath2</th>\n",
       "      <th>bath3</th>\n",
       "      <th>housing_type_(b) double</th>\n",
       "      <th>housing_type_(c) multi</th>\n",
       "    </tr>\n",
       "  </thead>\n",
       "  <tbody>\n",
       "    <tr>\n",
       "      <th>0</th>\n",
       "      <td>6800</td>\n",
       "      <td>1600.0</td>\n",
       "      <td>2.0</td>\n",
       "      <td>2.0</td>\n",
       "      <td>0</td>\n",
       "      <td>1</td>\n",
       "      <td>0</td>\n",
       "      <td>1</td>\n",
       "      <td>4.0</td>\n",
       "      <td>2560000.0</td>\n",
       "      <td>4.096000e+09</td>\n",
       "      <td>16.00</td>\n",
       "      <td>4.0</td>\n",
       "      <td>8.0</td>\n",
       "      <td>4.00</td>\n",
       "      <td>8.000</td>\n",
       "      <td>0</td>\n",
       "      <td>1</td>\n",
       "    </tr>\n",
       "    <tr>\n",
       "      <th>1</th>\n",
       "      <td>3500</td>\n",
       "      <td>550.0</td>\n",
       "      <td>1.0</td>\n",
       "      <td>1.0</td>\n",
       "      <td>0</td>\n",
       "      <td>1</td>\n",
       "      <td>1</td>\n",
       "      <td>1</td>\n",
       "      <td>2.0</td>\n",
       "      <td>302500.0</td>\n",
       "      <td>1.663750e+08</td>\n",
       "      <td>4.00</td>\n",
       "      <td>1.0</td>\n",
       "      <td>1.0</td>\n",
       "      <td>1.00</td>\n",
       "      <td>1.000</td>\n",
       "      <td>0</td>\n",
       "      <td>1</td>\n",
       "    </tr>\n",
       "    <tr>\n",
       "      <th>2</th>\n",
       "      <td>5100</td>\n",
       "      <td>1300.0</td>\n",
       "      <td>2.0</td>\n",
       "      <td>1.0</td>\n",
       "      <td>0</td>\n",
       "      <td>1</td>\n",
       "      <td>1</td>\n",
       "      <td>1</td>\n",
       "      <td>3.0</td>\n",
       "      <td>1690000.0</td>\n",
       "      <td>2.197000e+09</td>\n",
       "      <td>9.00</td>\n",
       "      <td>4.0</td>\n",
       "      <td>8.0</td>\n",
       "      <td>1.00</td>\n",
       "      <td>1.000</td>\n",
       "      <td>0</td>\n",
       "      <td>1</td>\n",
       "    </tr>\n",
       "    <tr>\n",
       "      <th>3</th>\n",
       "      <td>9000</td>\n",
       "      <td>3500.0</td>\n",
       "      <td>3.0</td>\n",
       "      <td>2.5</td>\n",
       "      <td>0</td>\n",
       "      <td>1</td>\n",
       "      <td>0</td>\n",
       "      <td>1</td>\n",
       "      <td>5.5</td>\n",
       "      <td>12250000.0</td>\n",
       "      <td>4.287500e+10</td>\n",
       "      <td>30.25</td>\n",
       "      <td>9.0</td>\n",
       "      <td>27.0</td>\n",
       "      <td>6.25</td>\n",
       "      <td>15.625</td>\n",
       "      <td>0</td>\n",
       "      <td>1</td>\n",
       "    </tr>\n",
       "    <tr>\n",
       "      <th>4</th>\n",
       "      <td>3100</td>\n",
       "      <td>561.0</td>\n",
       "      <td>1.0</td>\n",
       "      <td>1.0</td>\n",
       "      <td>0</td>\n",
       "      <td>0</td>\n",
       "      <td>1</td>\n",
       "      <td>1</td>\n",
       "      <td>2.0</td>\n",
       "      <td>314721.0</td>\n",
       "      <td>1.765585e+08</td>\n",
       "      <td>4.00</td>\n",
       "      <td>1.0</td>\n",
       "      <td>1.0</td>\n",
       "      <td>1.00</td>\n",
       "      <td>1.000</td>\n",
       "      <td>0</td>\n",
       "      <td>1</td>\n",
       "    </tr>\n",
       "  </tbody>\n",
       "</table>\n",
       "</div>"
      ],
      "text/plain": [
       "   price    sqft  beds  bath  valet  in_unit_laundry  dogs  northeast  \\\n",
       "0   6800  1600.0   2.0   2.0      0                1     0          1   \n",
       "1   3500   550.0   1.0   1.0      0                1     1          1   \n",
       "2   5100  1300.0   2.0   1.0      0                1     1          1   \n",
       "3   9000  3500.0   3.0   2.5      0                1     0          1   \n",
       "4   3100   561.0   1.0   1.0      0                0     1          1   \n",
       "\n",
       "   beds_bath       sqft2         sqft3  beds_bath2  beds2  beds3  bath2  \\\n",
       "0        4.0   2560000.0  4.096000e+09       16.00    4.0    8.0   4.00   \n",
       "1        2.0    302500.0  1.663750e+08        4.00    1.0    1.0   1.00   \n",
       "2        3.0   1690000.0  2.197000e+09        9.00    4.0    8.0   1.00   \n",
       "3        5.5  12250000.0  4.287500e+10       30.25    9.0   27.0   6.25   \n",
       "4        2.0    314721.0  1.765585e+08        4.00    1.0    1.0   1.00   \n",
       "\n",
       "    bath3  housing_type_(b) double  housing_type_(c) multi  \n",
       "0   8.000                        0                       1  \n",
       "1   1.000                        0                       1  \n",
       "2   1.000                        0                       1  \n",
       "3  15.625                        0                       1  \n",
       "4   1.000                        0                       1  "
      ]
     },
     "execution_count": 24,
     "metadata": {},
     "output_type": "execute_result"
    }
   ],
   "source": [
    "df_mod = rentals_df.assign(\n",
    "    valet = np.where(rentals_df['parking'] == '(a) valet', 1, 0),\n",
    "    in_unit_laundry = np.where(rentals_df['laundry'] == '(a) in-unit', 1, 0),\n",
    "    dogs = np.where((rentals_df['pets'] == '(a) both') | (rentals_df['pets'] == '(b) dogs'), 1, 0),\n",
    "    northeast = np.where((rentals_df['hood_district'] == 5) | (rentals_df['hood_district'] == 6) | (rentals_df['hood_district'] == 7) | (rentals_df['hood_district'] == 8) | (rentals_df['hood_district'] == 9), 1, 0),\n",
    "    beds_bath = rentals_df['beds'] + rentals_df['bath'],\n",
    "    sqft2 = rentals_df['sqft']**2,\n",
    "    sqft3 = rentals_df['sqft']**3,\n",
    "    beds_bath2 = (rentals_df['beds'] + rentals_df['bath'])**2,\n",
    "    beds2 = rentals_df['beds']**2,\n",
    "    beds3 = rentals_df['beds']**3,\n",
    "    bath2 = rentals_df['bath']**2,\n",
    "    bath3 = rentals_df['bath']**3\n",
    ").drop([\n",
    "    'laundry',\n",
    "    'parking',\n",
    "    'pets',\n",
    "    'hood_district',\n",
    "#     'beds',\n",
    "# #     'sqft',\n",
    "#     'bath'\n",
    "], axis=1)\n",
    "\n",
    "df_mod=pd.get_dummies(df_mod, drop_first=True, dtype=int)\n",
    "df_mod.head()"
   ]
  },
  {
   "cell_type": "markdown",
   "id": "33d07e42",
   "metadata": {},
   "source": [
    "## Data Splitting"
   ]
  },
  {
   "cell_type": "code",
   "execution_count": 25,
   "id": "b76fcaf6",
   "metadata": {},
   "outputs": [],
   "source": [
    "from sklearn.model_selection import train_test_split\n",
    "from scipy import stats\n",
    "\n",
    "boxcox, calc_lambda = stats.boxcox(rentals_df['price'])\n",
    "\n",
    "features = [\n",
    "    'sqft',\n",
    "    'sqft2',\n",
    "    'sqft3',\n",
    "    'beds_bath',\n",
    "    'beds_bath2',\n",
    "    'beds',\n",
    "    'beds2',\n",
    "    'beds3',\n",
    "    'bath',\n",
    "    'bath2',\n",
    "    'bath3',\n",
    "    'valet',\n",
    "    'in_unit_laundry',\n",
    "    'dogs',\n",
    "    'northeast',\n",
    "    'housing_type_(b) double',\n",
    "    'housing_type_(c) multi'\n",
    "]\n",
    "X = sm.add_constant(df_mod[features])\n",
    "y = pd.DataFrame({'price': boxcox})\n",
    "\n",
    "X, X_test, y, y_test = train_test_split(X, y, test_size=0.2, shuffle=True, random_state=2025)"
   ]
  },
  {
   "cell_type": "markdown",
   "id": "1cf72b0f",
   "metadata": {},
   "source": [
    "## Scaling Data"
   ]
  },
  {
   "cell_type": "code",
   "execution_count": 26,
   "id": "79b2838d",
   "metadata": {},
   "outputs": [],
   "source": [
    "import scipy\n",
    "from sklearn.preprocessing import StandardScaler\n",
    "\n",
    "std = StandardScaler()\n",
    "\n",
    "X_train = std.fit_transform(X.values)\n",
    "X_test = std.transform(X_test.values)"
   ]
  },
  {
   "cell_type": "markdown",
   "id": "aa45b4c6",
   "metadata": {},
   "source": [
    "## Ridge"
   ]
  },
  {
   "cell_type": "code",
   "execution_count": 27,
   "id": "13a884f2",
   "metadata": {},
   "outputs": [
    {
     "name": "stdout",
     "output_type": "stream",
     "text": [
      "Alpha: 0.12033778407775893\n",
      "Train R2: 0.8180272349549914\n",
      "Test R2: 0.792305277492612\n",
      "Test MAE: 437.88351290029016\n"
     ]
    }
   ],
   "source": [
    "from sklearn.linear_model import RidgeCV\n",
    "from scipy.special import inv_boxcox\n",
    "\n",
    "n = 200\n",
    "alphas = 10 ** np.linspace(-3,3,n)\n",
    "\n",
    "ridge_model = RidgeCV(alphas=alphas, cv=5)\n",
    "ridge_model.fit(X_train, y)\n",
    "\n",
    "print(f\"Alpha: {ridge_model.alpha_}\")\n",
    "print(f\"Train R2: {ridge_model.score(X_train, y)}\")\n",
    "print(f\"Test R2: {ridge_model.score(X_test, y_test)}\")\n",
    "print(f\"Test MAE: {mae(inv_boxcox(y_test, calc_lambda), inv_boxcox(ridge_model.predict(X_test), calc_lambda))}\")"
   ]
  },
  {
   "cell_type": "markdown",
   "id": "c5186a67",
   "metadata": {},
   "source": [
    "## Lasso"
   ]
  },
  {
   "cell_type": "code",
   "execution_count": 28,
   "id": "f75df4da",
   "metadata": {
    "scrolled": false
   },
   "outputs": [
    {
     "name": "stdout",
     "output_type": "stream",
     "text": [
      "Alpha: 0.001\n",
      "Train R2: 0.7947224498510712\n",
      "Test R2: 0.7995592742778589\n",
      "Test MAE: 423.8140164343033\n"
     ]
    },
    {
     "name": "stderr",
     "output_type": "stream",
     "text": [
      "C:\\Users\\justi\\anaconda3\\lib\\site-packages\\sklearn\\linear_model\\_coordinate_descent.py:1664: DataConversionWarning: A column-vector y was passed when a 1d array was expected. Please change the shape of y to (n_samples, ), for example using ravel().\n",
      "  y = column_or_1d(y, warn=True)\n"
     ]
    },
    {
     "data": {
      "text/plain": [
       "[('const', 0.0),\n",
       " ('sqft', 0.06340605942738088),\n",
       " ('sqft2', -0.0),\n",
       " ('sqft3', -0.012249066714108362),\n",
       " ('beds_bath', 0.004815608214494796),\n",
       " ('beds_bath2', -0.0),\n",
       " ('beds', 0.030348397940118708),\n",
       " ('beds2', -0.0),\n",
       " ('beds3', -0.013112089488418204),\n",
       " ('bath', 0.0),\n",
       " ('bath2', 0.0),\n",
       " ('bath3', 0.0041136797911921095),\n",
       " ('valet', 0.006780550063066005),\n",
       " ('in_unit_laundry', 0.009971302407655851),\n",
       " ('dogs', 0.0012842688049688109),\n",
       " ('northeast', 0.013500528795344323),\n",
       " ('housing_type_(b) double', -0.0015675430834892836),\n",
       " ('housing_type_(c) multi', -0.0)]"
      ]
     },
     "execution_count": 28,
     "metadata": {},
     "output_type": "execute_result"
    }
   ],
   "source": [
    "from sklearn.linear_model import LassoCV\n",
    "\n",
    "lasso_model = LassoCV(alphas=alphas, cv=5)\n",
    "lasso_model.fit(X_train, y)\n",
    "\n",
    "print(f\"Alpha: {lasso_model.alpha_}\")\n",
    "print(f\"Train R2: {lasso_model.score(X_train, y)}\")\n",
    "print(f\"Test R2: {lasso_model.score(X_test, y_test)}\")\n",
    "print(f\"Test MAE: {mae(inv_boxcox(y_test, calc_lambda), inv_boxcox(lasso_model.predict(X_test), calc_lambda))}\")\n",
    "\n",
    "list(zip(X.columns, lasso_model.coef_))"
   ]
  },
  {
   "cell_type": "markdown",
   "id": "9fec5d1b",
   "metadata": {},
   "source": [
    "## ENET"
   ]
  },
  {
   "cell_type": "code",
   "execution_count": 29,
   "id": "f5c24904",
   "metadata": {
    "scrolled": false
   },
   "outputs": [
    {
     "name": "stderr",
     "output_type": "stream",
     "text": [
      "C:\\Users\\justi\\anaconda3\\lib\\site-packages\\sklearn\\linear_model\\_coordinate_descent.py:1664: DataConversionWarning: A column-vector y was passed when a 1d array was expected. Please change the shape of y to (n_samples, ), for example using ravel().\n",
      "  y = column_or_1d(y, warn=True)\n"
     ]
    },
    {
     "name": "stdout",
     "output_type": "stream",
     "text": [
      "Alpha: 0.001\n",
      "L1 Ratio: 0.1\n",
      "Train R2: 0.8125364054639916\n",
      "Test R2: 0.7984821424287882\n",
      "Test MAE: 430.27179682396326\n"
     ]
    }
   ],
   "source": [
    "from sklearn.linear_model import ElasticNetCV\n",
    "\n",
    "enet_model = ElasticNetCV(alphas=alphas, l1_ratio=np.arange(0.1,1,20), cv=5)\n",
    "enet_model.fit(X_train, y)\n",
    "\n",
    "print(f\"Alpha: {enet_model.alpha_}\")\n",
    "print(f\"L1 Ratio: {enet_model.l1_ratio_}\")\n",
    "print(f\"Train R2: {enet_model.score(X_train, y)}\")\n",
    "print(f\"Test R2: {enet_model.score(X_test, y_test)}\")\n",
    "print(f\"Test MAE: {mae(inv_boxcox(y_test, calc_lambda), inv_boxcox(enet_model.predict(X_test), calc_lambda))}\")"
   ]
  },
  {
   "cell_type": "markdown",
   "id": "38f2c113",
   "metadata": {},
   "source": [
    "## Final Model Test"
   ]
  },
  {
   "cell_type": "markdown",
   "id": "d15c0940",
   "metadata": {},
   "source": [
    "From the model test scores above, we can conclude that the lasso model is the best with a test R2 value of 0.7995592742778589 and a test MAE value of 423.8140164343033. This is also better than the multiple linear regression model which has a test R2 value of 0.7894811327873623 and a test MAE value of 433.5932595529336."
   ]
  }
 ],
 "metadata": {
  "kernelspec": {
   "display_name": "Python 3 (ipykernel)",
   "language": "python",
   "name": "python3"
  },
  "language_info": {
   "codemirror_mode": {
    "name": "ipython",
    "version": 3
   },
   "file_extension": ".py",
   "mimetype": "text/x-python",
   "name": "python",
   "nbconvert_exporter": "python",
   "pygments_lexer": "ipython3",
   "version": "3.9.12"
  }
 },
 "nbformat": 4,
 "nbformat_minor": 5
}
